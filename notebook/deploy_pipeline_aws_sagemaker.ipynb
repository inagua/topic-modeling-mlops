{
 "cells": [
  {
   "cell_type": "markdown",
   "source": [
    "# Run Kubeflow pipeline to AWS"
   ],
   "metadata": {
    "collapsed": false
   }
  },
  {
   "cell_type": "markdown",
   "source": [
    "This notebook is to see how we set up and runnning our kubeflow pipeline on AWS.\n",
    "\n",
    "This notebook is composed of two main parts:\n",
    "* The first part is to set up the dependencies of our project as well as to configure all the services correctly.\n",
    "* The second part is to set up our kubeflow pipeline."
   ],
   "metadata": {
    "collapsed": false
   }
  },
  {
   "cell_type": "markdown",
   "source": [
    "## Setup Dependencies"
   ],
   "metadata": {
    "collapsed": false
   }
  },
  {
   "cell_type": "markdown",
   "source": [
    "## This step is to setup an aws eks cluster. Goto \"Build pipeline\" to see the kubeflow pipeline step."
   ],
   "metadata": {
    "collapsed": false
   }
  },
  {
   "cell_type": "markdown",
   "source": [
    "### Pip"
   ],
   "metadata": {
    "collapsed": false
   }
  },
  {
   "cell_type": "code",
   "execution_count": null,
   "outputs": [],
   "source": [
    "!pip install --disable-pip-version-check -q pip --upgrade > /dev/null\n",
    "!pip install --disable-pip-version-check -q wrapt --upgrade > /dev/null"
   ],
   "metadata": {
    "collapsed": false
   }
  },
  {
   "cell_type": "markdown",
   "source": [
    "### KFP"
   ],
   "metadata": {
    "collapsed": false
   }
  },
  {
   "cell_type": "code",
   "execution_count": null,
   "outputs": [],
   "source": [
    "#!pip install kfp --upgrade"
   ],
   "metadata": {
    "collapsed": false
   }
  },
  {
   "cell_type": "markdown",
   "source": [
    "### AWS CLI and AWS Python SDK (boto3)"
   ],
   "metadata": {
    "collapsed": false
   }
  },
  {
   "cell_type": "code",
   "execution_count": null,
   "outputs": [],
   "source": [
    "!pip install --disable-pip-version-check -q awscli==1.18.216 boto3==1.16.56 botocore==1.19.56"
   ],
   "metadata": {
    "collapsed": false
   }
  },
  {
   "cell_type": "markdown",
   "source": [
    "### SageMaker"
   ],
   "metadata": {
    "collapsed": false
   }
  },
  {
   "cell_type": "code",
   "execution_count": null,
   "outputs": [],
   "source": [
    "!pip install --disable-pip-version-check -q sagemaker==2.29.0\n",
    "!pip install --disable-pip-version-check -q smdebug==1.0.1\n",
    "!pip install --disable-pip-version-check -q sagemaker-experiments==0.1.26"
   ],
   "metadata": {
    "collapsed": false
   }
  },
  {
   "cell_type": "markdown",
   "source": [
    "#### Tensorflow"
   ],
   "metadata": {
    "collapsed": false
   }
  },
  {
   "cell_type": "code",
   "execution_count": null,
   "outputs": [],
   "source": [
    "!pip install --disable-pip-version-check -q tensorflow==2.3.1"
   ],
   "metadata": {
    "collapsed": false
   }
  },
  {
   "cell_type": "markdown",
   "source": [
    "#### Sklearn"
   ],
   "metadata": {
    "collapsed": false
   }
  },
  {
   "cell_type": "code",
   "execution_count": null,
   "outputs": [],
   "source": [
    "!pip install sklearn"
   ],
   "metadata": {
    "collapsed": false
   }
  },
  {
   "cell_type": "markdown",
   "source": [
    "#### Hugging Face Transformers (Bert)"
   ],
   "metadata": {
    "collapsed": false
   }
  },
  {
   "cell_type": "code",
   "execution_count": null,
   "outputs": [],
   "source": [
    "!pip install --disable-pip-version-check -q transformers==3.5.1"
   ],
   "metadata": {
    "collapsed": false
   }
  },
  {
   "cell_type": "markdown",
   "source": [
    "#### Other (Matplotlib etc.)"
   ],
   "metadata": {
    "collapsed": false
   }
  },
  {
   "cell_type": "code",
   "execution_count": null,
   "outputs": [],
   "source": [
    "!pip install --disable-pip-version-check -q matplotlib==3.1.3"
   ],
   "metadata": {
    "collapsed": false
   }
  },
  {
   "cell_type": "markdown",
   "source": [
    "#### AWS CLI and Credentials (Optional)\n",
    "if you are running atouside of an AWS account, you should uncomment and run the cells below."
   ],
   "metadata": {
    "collapsed": false
   }
  },
  {
   "cell_type": "code",
   "execution_count": 3,
   "outputs": [],
   "source": [
    "# !pip install awscli\n",
    "# !mkdir ~/.aws\n",
    "# %%writefile ~/.aws/credentials\n",
    "\n",
    "# [default]\n",
    "# aws_access_key_id = <ACCESS_KEY_ID>\n",
    "# aws_secret_access_key = <SECRET_ACCESS_KEY>\n",
    "# %%writefile ~/.aws/config\n",
    "\n",
    "# [default]\n",
    "# region=<REGION_NAME> # us-east-1"
   ],
   "metadata": {
    "collapsed": false
   }
  },
  {
   "cell_type": "markdown",
   "source": [
    "#### Summarize"
   ],
   "metadata": {
    "collapsed": false
   }
  },
  {
   "cell_type": "code",
   "execution_count": null,
   "outputs": [],
   "source": [
    "!pip list"
   ],
   "metadata": {
    "collapsed": false
   }
  },
  {
   "cell_type": "code",
   "execution_count": null,
   "outputs": [],
   "source": [
    "setup_dependencies_passed = True\n",
    "%store setup_dependencies_passed\n",
    "%store\n"
   ],
   "metadata": {
    "collapsed": false
   }
  },
  {
   "cell_type": "code",
   "execution_count": null,
   "outputs": [],
   "source": [
    "%store\n"
   ],
   "metadata": {
    "collapsed": false
   }
  },
  {
   "cell_type": "markdown",
   "source": [
    "### Restart the kernel"
   ],
   "metadata": {
    "collapsed": false
   }
  },
  {
   "cell_type": "code",
   "execution_count": null,
   "outputs": [],
   "source": [
    "from IPython.core.display import HTML\n",
    "HTML(\"<script>Jupyter.notebook.kernel.restart()</script>\")"
   ],
   "metadata": {
    "collapsed": false
   }
  },
  {
   "cell_type": "markdown",
   "source": [
    "## Set up environment"
   ],
   "metadata": {
    "collapsed": false
   }
  },
  {
   "cell_type": "markdown",
   "source": [
    "### Create S3 Bucket"
   ],
   "metadata": {
    "collapsed": false
   }
  },
  {
   "cell_type": "code",
   "execution_count": null,
   "outputs": [],
   "source": [
    "import boto3\n",
    "import sagemaker\n",
    "\n",
    "session = boto3.session.Session()\n",
    "region = session.region_name\n",
    "sagemaker_session = sagemaker.Session()\n",
    "bucket = sagemaker_session.default_bucket()\n",
    "\n",
    "s3 = boto3.Session().client(service_name=\"s3\", region_name=region)"
   ],
   "metadata": {
    "collapsed": false
   }
  },
  {
   "cell_type": "code",
   "execution_count": null,
   "outputs": [],
   "source": [
    "setup_s3_bucket_passed = False\n",
    "print(\"Default bucket: {}\".format(bucket))\n"
   ],
   "metadata": {
    "collapsed": false
   }
  },
  {
   "cell_type": "markdown",
   "source": [
    "### Verify S3_Bucket Bucket Creation"
   ],
   "metadata": {
    "collapsed": false
   }
  },
  {
   "cell_type": "code",
   "execution_count": null,
   "outputs": [],
   "source": [
    "from botocore.client import ClientError\n",
    "\n",
    "response = None\n",
    "\n",
    "try:\n",
    "    response = s3.head_bucket(Bucket=bucket)\n",
    "    print(response)\n",
    "    setup_s3_bucket_passed = True\n",
    "except ClientError as e:\n",
    "    print(\"[ERROR] Cannot find bucket {} in {} due to {}.\".format(bucket, response, e))\n",
    "\n",
    "%store setup_s3_bucket_passed\n",
    "%store"
   ],
   "metadata": {
    "collapsed": false
   }
  },
  {
   "cell_type": "markdown",
   "source": [
    "### Update IAM Roles and Policies"
   ],
   "metadata": {
    "collapsed": false
   }
  },
  {
   "cell_type": "code",
   "execution_count": null,
   "outputs": [],
   "source": [
    "import boto3\n",
    "import sagemaker\n",
    "import time\n",
    "from time import gmtime, strftime\n",
    "\n",
    "sagemaker_session = sagemaker.Session()\n",
    "role = sagemaker.get_execution_role()\n",
    "bucket = sagemaker_session.default_bucket()\n",
    "region = boto3.Session().region_name\n",
    "\n",
    "from botocore.config import Config\n",
    "\n",
    "config = Config(retries={\"max_attempts\": 10, \"mode\": \"adaptive\"})\n",
    "\n",
    "iam = boto3.client(\"iam\", config=config)"
   ],
   "metadata": {
    "collapsed": false
   }
  },
  {
   "cell_type": "markdown",
   "source": [
    "#### Get SageMaker Execution Role Name"
   ],
   "metadata": {
    "collapsed": false
   }
  },
  {
   "cell_type": "code",
   "execution_count": null,
   "outputs": [],
   "source": [
    "role_name = role.split(\"/\")[-1]\n",
    "\n",
    "print(\"Role name: {}\".format(role_name))"
   ],
   "metadata": {
    "collapsed": false
   }
  },
  {
   "cell_type": "markdown",
   "source": [
    "###### Pre-Requisite: SageMaker notebook instance ExecutionRole contains AdministratorAccess Policy."
   ],
   "metadata": {
    "collapsed": false
   }
  },
  {
   "cell_type": "code",
   "execution_count": null,
   "outputs": [],
   "source": [
    "setup_iam_roles_passed = False\n",
    "admin = False\n",
    "\n",
    "post_policies = iam.list_attached_role_policies(RoleName=role_name)[\"AttachedPolicies\"]\n",
    "for post_policy in post_policies:\n",
    "    if post_policy[\"PolicyName\"] == \"AdministratorAccess\":\n",
    "        admin = True\n",
    "        setup_iam_roles_passed = True\n",
    "        print(\"[OK] You are all set up to continue with this workshop!\")\n",
    "        break\n",
    "\n",
    "if not admin:\n",
    "        print(\"*************** [ERROR] SageMakerExecutionRole needs the AdministratorAccess policy attached. *****************\")"
   ],
   "metadata": {
    "collapsed": false
   }
  },
  {
   "cell_type": "markdown",
   "source": [
    "#### Final Check"
   ],
   "metadata": {
    "collapsed": false
   }
  },
  {
   "cell_type": "code",
   "execution_count": null,
   "outputs": [],
   "source": [
    "# role = iam.get_role(RoleName=role_name)\n",
    "post_policies = iam.list_attached_role_policies(RoleName=role_name)[\"AttachedPolicies\"]\n",
    "\n",
    "required_policies = [\n",
    "    \"AdministratorAccess\",\n",
    "#     \"SecretsManagerReadWrite\",\n",
    "#     \"IAMFullAccess\",\n",
    "#     \"AmazonS3FullAccess\",\n",
    "#     \"AmazonAthenaFullAccess\",\n",
    "#     \"ComprehendFullAccess\",\n",
    "#     \"AmazonEC2ContainerRegistryFullAccess\",\n",
    "#     \"AmazonRedshiftFullAccess\",\n",
    "#     \"AWSStepFunctionsFullAccess\",\n",
    "#     \"AmazonSageMakerFullAccess\",\n",
    "#     \"AmazonKinesisFullAccess\",\n",
    "#     \"AmazonKinesisFirehoseFullAccess\",\n",
    "#     \"AmazonKinesisAnalyticsFullAccess\",\n",
    "]\n",
    "\n",
    "admin = False\n",
    "\n",
    "for post_policy in post_policies:\n",
    "    if post_policy[\"PolicyName\"] == \"AdministratorAccess\":\n",
    "        admin = True\n",
    "        try:\n",
    "            required_policies.remove(post_policy[\"PolicyName\"])\n",
    "        except:\n",
    "            break\n",
    "    else:\n",
    "        try:\n",
    "            required_policies.remove(post_policy[\"PolicyName\"])\n",
    "        except:\n",
    "            pass\n",
    "\n",
    "if not admin and len(required_policies) > 0:\n",
    "    print(\"*************** [ERROR] RE-RUN THIS NOTEBOOK *****************\")\n",
    "    for required_policy in required_policies:\n",
    "        print(\"Not Attached: {}\".format(required_policy))\n",
    "else:\n",
    "    setup_iam_roles_passed = True\n",
    "    print(\"[OK] You are all set up to continue with this workshop!\")"
   ],
   "metadata": {
    "collapsed": false
   }
  },
  {
   "cell_type": "code",
   "execution_count": null,
   "outputs": [],
   "source": [
    "%store setup_iam_roles_passed\n",
    "%store\n"
   ],
   "metadata": {
    "collapsed": false
   }
  },
  {
   "cell_type": "code",
   "execution_count": null,
   "outputs": [],
   "source": [],
   "metadata": {
    "collapsed": false
   }
  },
  {
   "cell_type": "markdown",
   "source": [
    "### Copy data from Public S3 to Private S3"
   ],
   "metadata": {
    "collapsed": false
   }
  },
  {
   "cell_type": "code",
   "execution_count": null,
   "outputs": [],
   "source": [],
   "metadata": {
    "collapsed": false
   }
  },
  {
   "cell_type": "markdown",
   "source": [],
   "metadata": {
    "collapsed": false
   }
  },
  {
   "cell_type": "markdown",
   "source": [
    "## Build Pipeline"
   ],
   "metadata": {
    "collapsed": false
   }
  },
  {
   "cell_type": "code",
   "execution_count": 3,
   "outputs": [
    {
     "name": "stdout",
     "output_type": "stream",
     "text": [
      "Requirement already satisfied: kfp in /opt/homebrew/Caskroom/miniforge/base/envs/tftest/lib/python3.9/site-packages (1.8.14)\r\n",
      "Requirement already satisfied: click<9,>=7.1.2 in /Users/KENAN/.local/lib/python3.9/site-packages (from kfp) (8.0.3)\r\n",
      "Requirement already satisfied: PyYAML<6,>=5.3 in /opt/homebrew/Caskroom/miniforge/base/envs/tftest/lib/python3.9/site-packages (from kfp) (5.4.1)\r\n",
      "Requirement already satisfied: pydantic<2,>=1.8.2 in /opt/homebrew/Caskroom/miniforge/base/envs/tftest/lib/python3.9/site-packages (from kfp) (1.8.2)\r\n",
      "Requirement already satisfied: requests-toolbelt<1,>=0.8.0 in /opt/homebrew/Caskroom/miniforge/base/envs/tftest/lib/python3.9/site-packages (from kfp) (0.10.0)\r\n",
      "Requirement already satisfied: Deprecated<2,>=1.2.7 in /opt/homebrew/Caskroom/miniforge/base/envs/tftest/lib/python3.9/site-packages (from kfp) (1.2.13)\r\n",
      "Requirement already satisfied: kfp-pipeline-spec<0.2.0,>=0.1.16 in /opt/homebrew/Caskroom/miniforge/base/envs/tftest/lib/python3.9/site-packages (from kfp) (0.1.16)\r\n",
      "Requirement already satisfied: google-cloud-storage<2,>=1.20.0 in /opt/homebrew/Caskroom/miniforge/base/envs/tftest/lib/python3.9/site-packages (from kfp) (1.44.0)\r\n",
      "Requirement already satisfied: protobuf<4,>=3.13.0 in /opt/homebrew/Caskroom/miniforge/base/envs/tftest/lib/python3.9/site-packages (from kfp) (3.18.1)\r\n",
      "Requirement already satisfied: absl-py<2,>=0.9 in /opt/homebrew/Caskroom/miniforge/base/envs/tftest/lib/python3.9/site-packages (from kfp) (0.10.0)\r\n",
      "Requirement already satisfied: kubernetes<19,>=8.0.0 in /opt/homebrew/Caskroom/miniforge/base/envs/tftest/lib/python3.9/site-packages (from kfp) (18.20.0)\r\n",
      "Requirement already satisfied: fire<1,>=0.3.1 in /opt/homebrew/Caskroom/miniforge/base/envs/tftest/lib/python3.9/site-packages (from kfp) (0.4.0)\r\n",
      "Requirement already satisfied: google-api-core!=2.0.*,!=2.1.*,!=2.2.*,!=2.3.0,<3.0.0dev,>=1.31.5 in /opt/homebrew/Caskroom/miniforge/base/envs/tftest/lib/python3.9/site-packages (from kfp) (2.10.2)\r\n",
      "Requirement already satisfied: kfp-server-api<2.0.0,>=1.1.2 in /opt/homebrew/Caskroom/miniforge/base/envs/tftest/lib/python3.9/site-packages (from kfp) (1.8.5)\r\n",
      "Requirement already satisfied: uritemplate<4,>=3.0.1 in /opt/homebrew/Caskroom/miniforge/base/envs/tftest/lib/python3.9/site-packages (from kfp) (3.0.1)\r\n",
      "Requirement already satisfied: strip-hints<1,>=0.1.8 in /opt/homebrew/Caskroom/miniforge/base/envs/tftest/lib/python3.9/site-packages (from kfp) (0.1.10)\r\n",
      "Requirement already satisfied: cloudpickle<3,>=2.0.0 in /opt/homebrew/Caskroom/miniforge/base/envs/tftest/lib/python3.9/site-packages (from kfp) (2.0.0)\r\n",
      "Requirement already satisfied: google-auth<2,>=1.6.1 in /opt/homebrew/Caskroom/miniforge/base/envs/tftest/lib/python3.9/site-packages (from kfp) (1.35.0)\r\n",
      "Requirement already satisfied: jsonschema<4,>=3.0.1 in /opt/homebrew/Caskroom/miniforge/base/envs/tftest/lib/python3.9/site-packages (from kfp) (3.2.0)\r\n",
      "Requirement already satisfied: google-api-python-client<2,>=1.7.8 in /opt/homebrew/Caskroom/miniforge/base/envs/tftest/lib/python3.9/site-packages (from kfp) (1.12.11)\r\n",
      "Requirement already satisfied: typer<1.0,>=0.3.2 in /opt/homebrew/Caskroom/miniforge/base/envs/tftest/lib/python3.9/site-packages (from kfp) (0.4.2)\r\n",
      "Requirement already satisfied: docstring-parser<1,>=0.7.3 in /opt/homebrew/Caskroom/miniforge/base/envs/tftest/lib/python3.9/site-packages (from kfp) (0.15)\r\n",
      "Requirement already satisfied: tabulate<1,>=0.8.6 in /opt/homebrew/Caskroom/miniforge/base/envs/tftest/lib/python3.9/site-packages (from kfp) (0.9.0)\r\n",
      "Requirement already satisfied: six in /opt/homebrew/Caskroom/miniforge/base/envs/tftest/lib/python3.9/site-packages (from absl-py<2,>=0.9->kfp) (1.15.0)\r\n",
      "Requirement already satisfied: wrapt<2,>=1.10 in /opt/homebrew/Caskroom/miniforge/base/envs/tftest/lib/python3.9/site-packages (from Deprecated<2,>=1.2.7->kfp) (1.12.1)\r\n",
      "Requirement already satisfied: termcolor in /opt/homebrew/Caskroom/miniforge/base/envs/tftest/lib/python3.9/site-packages (from fire<1,>=0.3.1->kfp) (1.1.0)\r\n",
      "Collecting protobuf<4,>=3.13.0\r\n",
      "  Using cached protobuf-3.20.3-py2.py3-none-any.whl (162 kB)\r\n",
      "Requirement already satisfied: googleapis-common-protos<2.0dev,>=1.56.2 in /opt/homebrew/Caskroom/miniforge/base/envs/tftest/lib/python3.9/site-packages (from google-api-core!=2.0.*,!=2.1.*,!=2.2.*,!=2.3.0,<3.0.0dev,>=1.31.5->kfp) (1.56.4)\r\n",
      "Requirement already satisfied: requests<3.0.0dev,>=2.18.0 in /opt/homebrew/Caskroom/miniforge/base/envs/tftest/lib/python3.9/site-packages (from google-api-core!=2.0.*,!=2.1.*,!=2.2.*,!=2.3.0,<3.0.0dev,>=1.31.5->kfp) (2.26.0)\r\n",
      "Requirement already satisfied: google-auth-httplib2>=0.0.3 in /opt/homebrew/Caskroom/miniforge/base/envs/tftest/lib/python3.9/site-packages (from google-api-python-client<2,>=1.7.8->kfp) (0.1.0)\r\n",
      "Requirement already satisfied: httplib2<1dev,>=0.15.0 in /opt/homebrew/Caskroom/miniforge/base/envs/tftest/lib/python3.9/site-packages (from google-api-python-client<2,>=1.7.8->kfp) (0.20.4)\r\n",
      "Requirement already satisfied: cachetools<5.0,>=2.0.0 in /opt/homebrew/Caskroom/miniforge/base/envs/tftest/lib/python3.9/site-packages (from google-auth<2,>=1.6.1->kfp) (4.2.4)\r\n",
      "Requirement already satisfied: rsa<5,>=3.1.4 in /opt/homebrew/Caskroom/miniforge/base/envs/tftest/lib/python3.9/site-packages (from google-auth<2,>=1.6.1->kfp) (4.7.2)\r\n",
      "Requirement already satisfied: setuptools>=40.3.0 in /opt/homebrew/Caskroom/miniforge/base/envs/tftest/lib/python3.9/site-packages (from google-auth<2,>=1.6.1->kfp) (58.2.0)\r\n",
      "Requirement already satisfied: pyasn1-modules>=0.2.1 in /opt/homebrew/Caskroom/miniforge/base/envs/tftest/lib/python3.9/site-packages (from google-auth<2,>=1.6.1->kfp) (0.2.7)\r\n",
      "Requirement already satisfied: google-resumable-media<3.0dev,>=1.3.0 in /opt/homebrew/Caskroom/miniforge/base/envs/tftest/lib/python3.9/site-packages (from google-cloud-storage<2,>=1.20.0->kfp) (2.4.0)\r\n",
      "Requirement already satisfied: google-cloud-core<3.0dev,>=1.6.0 in /opt/homebrew/Caskroom/miniforge/base/envs/tftest/lib/python3.9/site-packages (from google-cloud-storage<2,>=1.20.0->kfp) (2.3.2)\r\n",
      "Requirement already satisfied: pyrsistent>=0.14.0 in /opt/homebrew/Caskroom/miniforge/base/envs/tftest/lib/python3.9/site-packages (from jsonschema<4,>=3.0.1->kfp) (0.17.3)\r\n",
      "Requirement already satisfied: attrs>=17.4.0 in /opt/homebrew/Caskroom/miniforge/base/envs/tftest/lib/python3.9/site-packages (from jsonschema<4,>=3.0.1->kfp) (21.2.0)\r\n",
      "Requirement already satisfied: certifi in /opt/homebrew/Caskroom/miniforge/base/envs/tftest/lib/python3.9/site-packages (from kfp-server-api<2.0.0,>=1.1.2->kfp) (2022.9.24)\r\n",
      "Requirement already satisfied: urllib3>=1.15 in /opt/homebrew/Caskroom/miniforge/base/envs/tftest/lib/python3.9/site-packages (from kfp-server-api<2.0.0,>=1.1.2->kfp) (1.26.7)\r\n",
      "Requirement already satisfied: python-dateutil in /opt/homebrew/Caskroom/miniforge/base/envs/tftest/lib/python3.9/site-packages (from kfp-server-api<2.0.0,>=1.1.2->kfp) (2.8.2)\r\n",
      "Requirement already satisfied: requests-oauthlib in /opt/homebrew/Caskroom/miniforge/base/envs/tftest/lib/python3.9/site-packages (from kubernetes<19,>=8.0.0->kfp) (1.3.0)\r\n",
      "Requirement already satisfied: websocket-client!=0.40.0,!=0.41.*,!=0.42.*,>=0.32.0 in /opt/homebrew/Caskroom/miniforge/base/envs/tftest/lib/python3.9/site-packages (from kubernetes<19,>=8.0.0->kfp) (1.4.1)\r\n",
      "Requirement already satisfied: typing-extensions>=3.7.4.3 in /opt/homebrew/Caskroom/miniforge/base/envs/tftest/lib/python3.9/site-packages (from pydantic<2,>=1.8.2->kfp) (3.7.4.3)\r\n",
      "Requirement already satisfied: wheel in /opt/homebrew/Caskroom/miniforge/base/envs/tftest/lib/python3.9/site-packages (from strip-hints<1,>=0.1.8->kfp) (0.35.1)\r\n",
      "Requirement already satisfied: google-crc32c<2.0dev,>=1.0 in /opt/homebrew/Caskroom/miniforge/base/envs/tftest/lib/python3.9/site-packages (from google-resumable-media<3.0dev,>=1.3.0->google-cloud-storage<2,>=1.20.0->kfp) (1.5.0)\r\n",
      "Requirement already satisfied: pyparsing!=3.0.0,!=3.0.1,!=3.0.2,!=3.0.3,<4,>=2.4.2 in /opt/homebrew/Caskroom/miniforge/base/envs/tftest/lib/python3.9/site-packages (from httplib2<1dev,>=0.15.0->google-api-python-client<2,>=1.7.8->kfp) (2.4.7)\r\n",
      "Requirement already satisfied: pyasn1<0.5.0,>=0.4.6 in /opt/homebrew/Caskroom/miniforge/base/envs/tftest/lib/python3.9/site-packages (from pyasn1-modules>=0.2.1->google-auth<2,>=1.6.1->kfp) (0.4.8)\r\n",
      "Requirement already satisfied: idna<4,>=2.5 in /opt/homebrew/Caskroom/miniforge/base/envs/tftest/lib/python3.9/site-packages (from requests<3.0.0dev,>=2.18.0->google-api-core!=2.0.*,!=2.1.*,!=2.2.*,!=2.3.0,<3.0.0dev,>=1.31.5->kfp) (3.1)\r\n",
      "Requirement already satisfied: charset-normalizer~=2.0.0 in /opt/homebrew/Caskroom/miniforge/base/envs/tftest/lib/python3.9/site-packages (from requests<3.0.0dev,>=2.18.0->google-api-core!=2.0.*,!=2.1.*,!=2.2.*,!=2.3.0,<3.0.0dev,>=1.31.5->kfp) (2.0.0)\r\n",
      "Requirement already satisfied: oauthlib>=3.0.0 in /opt/homebrew/Caskroom/miniforge/base/envs/tftest/lib/python3.9/site-packages (from requests-oauthlib->kubernetes<19,>=8.0.0->kfp) (3.1.1)\r\n",
      "Installing collected packages: protobuf\r\n",
      "  Attempting uninstall: protobuf\r\n",
      "    Found existing installation: protobuf 3.18.1\r\n",
      "    Uninstalling protobuf-3.18.1:\r\n",
      "      Successfully uninstalled protobuf-3.18.1\r\n",
      "\u001B[31mERROR: pip's dependency resolver does not currently take into account all the packages that are installed. This behaviour is the source of the following dependency conflicts.\r\n",
      "tensorflow-macos 2.6.0 requires numpy~=1.19.2, but you have numpy 1.21.2 which is incompatible.\u001B[0m\r\n",
      "Successfully installed protobuf-3.20.3\r\n"
     ]
    }
   ],
   "source": [
    "!pip3 install kfp --upgrade"
   ],
   "metadata": {
    "collapsed": false
   }
  },
  {
   "cell_type": "code",
   "execution_count": 4,
   "outputs": [
    {
     "ename": "TypeError",
     "evalue": "bases must be types",
     "output_type": "error",
     "traceback": [
      "\u001B[0;31m---------------------------------------------------------------------------\u001B[0m",
      "\u001B[0;31mTypeError\u001B[0m                                 Traceback (most recent call last)",
      "\u001B[0;32m/var/folders/wf/wnvt2sps3zbgxgxfcbpbw7xm0000gn/T/ipykernel_70676/2898566221.py\u001B[0m in \u001B[0;36m<module>\u001B[0;34m\u001B[0m\n\u001B[0;32m----> 1\u001B[0;31m \u001B[0;32mimport\u001B[0m \u001B[0mkfp\u001B[0m\u001B[0;34m\u001B[0m\u001B[0;34m\u001B[0m\u001B[0m\n\u001B[0m\u001B[1;32m      2\u001B[0m \u001B[0;32mfrom\u001B[0m \u001B[0mkfp\u001B[0m \u001B[0;32mimport\u001B[0m \u001B[0mcomponents\u001B[0m\u001B[0;34m\u001B[0m\u001B[0;34m\u001B[0m\u001B[0m\n\u001B[1;32m      3\u001B[0m \u001B[0;32mfrom\u001B[0m \u001B[0mkfp\u001B[0m\u001B[0;34m.\u001B[0m\u001B[0mcomponents\u001B[0m \u001B[0;32mimport\u001B[0m \u001B[0mfunc_to_container_op\u001B[0m\u001B[0;34m\u001B[0m\u001B[0;34m\u001B[0m\u001B[0m\n\u001B[1;32m      4\u001B[0m \u001B[0;32mfrom\u001B[0m \u001B[0mkfp\u001B[0m \u001B[0;32mimport\u001B[0m \u001B[0mdsl\u001B[0m\u001B[0;34m\u001B[0m\u001B[0;34m\u001B[0m\u001B[0m\n\u001B[1;32m      5\u001B[0m \u001B[0;32mfrom\u001B[0m \u001B[0mkfp\u001B[0m\u001B[0;34m.\u001B[0m\u001B[0maws\u001B[0m \u001B[0;32mimport\u001B[0m \u001B[0muse_aws_secret\u001B[0m\u001B[0;34m\u001B[0m\u001B[0;34m\u001B[0m\u001B[0m\n",
      "\u001B[0;32m/opt/homebrew/Caskroom/miniforge/base/envs/tftest/lib/python3.9/site-packages/kfp/__init__.py\u001B[0m in \u001B[0;36m<module>\u001B[0;34m\u001B[0m\n\u001B[1;32m     19\u001B[0m \u001B[0m__version__\u001B[0m \u001B[0;34m=\u001B[0m \u001B[0;34m'1.8.14'\u001B[0m\u001B[0;34m\u001B[0m\u001B[0;34m\u001B[0m\u001B[0m\n\u001B[1;32m     20\u001B[0m \u001B[0;34m\u001B[0m\u001B[0m\n\u001B[0;32m---> 21\u001B[0;31m \u001B[0;32mfrom\u001B[0m \u001B[0;34m.\u001B[0m \u001B[0;32mimport\u001B[0m \u001B[0mcomponents\u001B[0m\u001B[0;34m\u001B[0m\u001B[0;34m\u001B[0m\u001B[0m\n\u001B[0m\u001B[1;32m     22\u001B[0m \u001B[0;32mfrom\u001B[0m \u001B[0;34m.\u001B[0m \u001B[0;32mimport\u001B[0m \u001B[0mcontainers\u001B[0m\u001B[0;34m\u001B[0m\u001B[0;34m\u001B[0m\u001B[0m\n\u001B[1;32m     23\u001B[0m \u001B[0;32mfrom\u001B[0m \u001B[0;34m.\u001B[0m \u001B[0;32mimport\u001B[0m \u001B[0mdsl\u001B[0m\u001B[0;34m\u001B[0m\u001B[0;34m\u001B[0m\u001B[0m\n",
      "\u001B[0;32m/opt/homebrew/Caskroom/miniforge/base/envs/tftest/lib/python3.9/site-packages/kfp/components/__init__.py\u001B[0m in \u001B[0;36m<module>\u001B[0;34m\u001B[0m\n\u001B[1;32m     13\u001B[0m \u001B[0;31m# limitations under the License.\u001B[0m\u001B[0;34m\u001B[0m\u001B[0;34m\u001B[0m\u001B[0m\n\u001B[1;32m     14\u001B[0m \u001B[0;34m\u001B[0m\u001B[0m\n\u001B[0;32m---> 15\u001B[0;31m \u001B[0;32mfrom\u001B[0m \u001B[0;34m.\u001B[0m\u001B[0m_airflow_op\u001B[0m \u001B[0;32mimport\u001B[0m \u001B[0;34m*\u001B[0m\u001B[0;34m\u001B[0m\u001B[0;34m\u001B[0m\u001B[0m\n\u001B[0m\u001B[1;32m     16\u001B[0m \u001B[0;32mfrom\u001B[0m \u001B[0;34m.\u001B[0m\u001B[0m_components\u001B[0m \u001B[0;32mimport\u001B[0m \u001B[0;34m*\u001B[0m\u001B[0;34m\u001B[0m\u001B[0;34m\u001B[0m\u001B[0m\n\u001B[1;32m     17\u001B[0m \u001B[0;32mfrom\u001B[0m \u001B[0;34m.\u001B[0m\u001B[0m_python_op\u001B[0m \u001B[0;32mimport\u001B[0m \u001B[0;34m*\u001B[0m\u001B[0;34m\u001B[0m\u001B[0;34m\u001B[0m\u001B[0m\n",
      "\u001B[0;32m/opt/homebrew/Caskroom/miniforge/base/envs/tftest/lib/python3.9/site-packages/kfp/components/_airflow_op.py\u001B[0m in \u001B[0;36m<module>\u001B[0;34m\u001B[0m\n\u001B[1;32m     19\u001B[0m \u001B[0;32mfrom\u001B[0m \u001B[0mtyping\u001B[0m \u001B[0;32mimport\u001B[0m \u001B[0mList\u001B[0m\u001B[0;34m\u001B[0m\u001B[0;34m\u001B[0m\u001B[0m\n\u001B[1;32m     20\u001B[0m \u001B[0;34m\u001B[0m\u001B[0m\n\u001B[0;32m---> 21\u001B[0;31m \u001B[0;32mfrom\u001B[0m \u001B[0;34m.\u001B[0m\u001B[0m_python_op\u001B[0m \u001B[0;32mimport\u001B[0m \u001B[0m_func_to_component_spec\u001B[0m\u001B[0;34m,\u001B[0m \u001B[0m_create_task_factory_from_component_spec\u001B[0m\u001B[0;34m\u001B[0m\u001B[0;34m\u001B[0m\u001B[0m\n\u001B[0m\u001B[1;32m     22\u001B[0m \u001B[0;34m\u001B[0m\u001B[0m\n\u001B[1;32m     23\u001B[0m \u001B[0m_default_airflow_base_image\u001B[0m \u001B[0;34m=\u001B[0m \u001B[0;34m'apache/airflow:master-python3.6-ci'\u001B[0m  \u001B[0;31m#TODO: Update a production release image once they become available: https://cwiki.apache.org/confluence/display/AIRFLOW/AIP-10+Multi-layered+and+multi-stage+official+Airflow+CI+image#AIP-10Multi-layeredandmulti-stageofficialAirflowCIimage-ProposedsetupoftheDockerHubandTravisCI . See https://issues.apache.org/jira/browse/AIRFLOW-5093\u001B[0m\u001B[0;34m\u001B[0m\u001B[0;34m\u001B[0m\u001B[0m\n",
      "\u001B[0;32m/opt/homebrew/Caskroom/miniforge/base/envs/tftest/lib/python3.9/site-packages/kfp/components/_python_op.py\u001B[0m in \u001B[0;36m<module>\u001B[0;34m\u001B[0m\n\u001B[1;32m     30\u001B[0m \u001B[0;34m\u001B[0m\u001B[0m\n\u001B[1;32m     31\u001B[0m \u001B[0;32mfrom\u001B[0m \u001B[0;34m.\u001B[0m\u001B[0m_yaml_utils\u001B[0m \u001B[0;32mimport\u001B[0m \u001B[0mdump_yaml\u001B[0m\u001B[0;34m\u001B[0m\u001B[0;34m\u001B[0m\u001B[0m\n\u001B[0;32m---> 32\u001B[0;31m \u001B[0;32mfrom\u001B[0m \u001B[0;34m.\u001B[0m\u001B[0m_components\u001B[0m \u001B[0;32mimport\u001B[0m \u001B[0m_create_task_factory_from_component_spec\u001B[0m\u001B[0;34m\u001B[0m\u001B[0;34m\u001B[0m\u001B[0m\n\u001B[0m\u001B[1;32m     33\u001B[0m \u001B[0;32mfrom\u001B[0m \u001B[0;34m.\u001B[0m\u001B[0m_data_passing\u001B[0m \u001B[0;32mimport\u001B[0m \u001B[0mserialize_value\u001B[0m\u001B[0;34m,\u001B[0m \u001B[0mget_deserializer_code_for_type_name\u001B[0m\u001B[0;34m,\u001B[0m \u001B[0mget_serializer_func_for_type_name\u001B[0m\u001B[0;34m,\u001B[0m \u001B[0mget_canonical_type_name_for_type\u001B[0m\u001B[0;34m\u001B[0m\u001B[0;34m\u001B[0m\u001B[0m\n\u001B[1;32m     34\u001B[0m \u001B[0;32mfrom\u001B[0m \u001B[0;34m.\u001B[0m\u001B[0m_naming\u001B[0m \u001B[0;32mimport\u001B[0m \u001B[0m_make_name_unique_by_adding_index\u001B[0m\u001B[0;34m\u001B[0m\u001B[0;34m\u001B[0m\u001B[0m\n",
      "\u001B[0;32m/opt/homebrew/Caskroom/miniforge/base/envs/tftest/lib/python3.9/site-packages/kfp/components/_components.py\u001B[0m in \u001B[0;36m<module>\u001B[0;34m\u001B[0m\n\u001B[1;32m     31\u001B[0m \u001B[0;32mfrom\u001B[0m \u001B[0;34m.\u001B[0m\u001B[0m_data_passing\u001B[0m \u001B[0;32mimport\u001B[0m \u001B[0mserialize_value\u001B[0m\u001B[0;34m,\u001B[0m \u001B[0mget_canonical_type_for_type_name\u001B[0m\u001B[0;34m\u001B[0m\u001B[0;34m\u001B[0m\u001B[0m\n\u001B[1;32m     32\u001B[0m \u001B[0;34m\u001B[0m\u001B[0m\n\u001B[0;32m---> 33\u001B[0;31m \u001B[0;32mfrom\u001B[0m \u001B[0mkfp\u001B[0m\u001B[0;34m.\u001B[0m\u001B[0mv2\u001B[0m\u001B[0;34m.\u001B[0m\u001B[0mcomponents\u001B[0m\u001B[0;34m.\u001B[0m\u001B[0mtypes\u001B[0m \u001B[0;32mimport\u001B[0m \u001B[0mtype_utils\u001B[0m\u001B[0;34m\u001B[0m\u001B[0;34m\u001B[0m\u001B[0m\n\u001B[0m\u001B[1;32m     34\u001B[0m \u001B[0;34m\u001B[0m\u001B[0m\n\u001B[1;32m     35\u001B[0m \u001B[0m_default_component_name\u001B[0m \u001B[0;34m=\u001B[0m \u001B[0;34m'Component'\u001B[0m\u001B[0;34m\u001B[0m\u001B[0;34m\u001B[0m\u001B[0m\n",
      "\u001B[0;32m/opt/homebrew/Caskroom/miniforge/base/envs/tftest/lib/python3.9/site-packages/kfp/v2/components/types/type_utils.py\u001B[0m in \u001B[0;36m<module>\u001B[0;34m\u001B[0m\n\u001B[1;32m     19\u001B[0m \u001B[0;34m\u001B[0m\u001B[0m\n\u001B[1;32m     20\u001B[0m \u001B[0;32mfrom\u001B[0m \u001B[0mkfp\u001B[0m\u001B[0;34m.\u001B[0m\u001B[0mcomponents\u001B[0m \u001B[0;32mimport\u001B[0m \u001B[0mstructures\u001B[0m\u001B[0;34m,\u001B[0m \u001B[0mtype_annotation_utils\u001B[0m\u001B[0;34m\u001B[0m\u001B[0;34m\u001B[0m\u001B[0m\n\u001B[0;32m---> 21\u001B[0;31m \u001B[0;32mfrom\u001B[0m \u001B[0mkfp\u001B[0m\u001B[0;34m.\u001B[0m\u001B[0mpipeline_spec\u001B[0m \u001B[0;32mimport\u001B[0m \u001B[0mpipeline_spec_pb2\u001B[0m\u001B[0;34m\u001B[0m\u001B[0;34m\u001B[0m\u001B[0m\n\u001B[0m\u001B[1;32m     22\u001B[0m \u001B[0;32mfrom\u001B[0m \u001B[0mkfp\u001B[0m\u001B[0;34m.\u001B[0m\u001B[0mv2\u001B[0m\u001B[0;34m.\u001B[0m\u001B[0mcomponents\u001B[0m \u001B[0;32mimport\u001B[0m \u001B[0mtask_final_status\u001B[0m\u001B[0;34m\u001B[0m\u001B[0;34m\u001B[0m\u001B[0m\n\u001B[1;32m     23\u001B[0m \u001B[0;32mfrom\u001B[0m \u001B[0mkfp\u001B[0m\u001B[0;34m.\u001B[0m\u001B[0mv2\u001B[0m\u001B[0;34m.\u001B[0m\u001B[0mcomponents\u001B[0m\u001B[0;34m.\u001B[0m\u001B[0mtypes\u001B[0m \u001B[0;32mimport\u001B[0m \u001B[0martifact_types\u001B[0m\u001B[0;34m\u001B[0m\u001B[0;34m\u001B[0m\u001B[0m\n",
      "\u001B[0;32m/opt/homebrew/Caskroom/miniforge/base/envs/tftest/lib/python3.9/site-packages/kfp/pipeline_spec/pipeline_spec_pb2.py\u001B[0m in \u001B[0;36m<module>\u001B[0;34m\u001B[0m\n\u001B[1;32m      3\u001B[0m \u001B[0;31m# source: pipeline_spec.proto\u001B[0m\u001B[0;34m\u001B[0m\u001B[0;34m\u001B[0m\u001B[0m\n\u001B[1;32m      4\u001B[0m \u001B[0;34m\u001B[0m\u001B[0m\n\u001B[0;32m----> 5\u001B[0;31m \u001B[0;32mfrom\u001B[0m \u001B[0mgoogle\u001B[0m\u001B[0;34m.\u001B[0m\u001B[0mprotobuf\u001B[0m \u001B[0;32mimport\u001B[0m \u001B[0mdescriptor\u001B[0m \u001B[0;32mas\u001B[0m \u001B[0m_descriptor\u001B[0m\u001B[0;34m\u001B[0m\u001B[0;34m\u001B[0m\u001B[0m\n\u001B[0m\u001B[1;32m      6\u001B[0m \u001B[0;32mfrom\u001B[0m \u001B[0mgoogle\u001B[0m\u001B[0;34m.\u001B[0m\u001B[0mprotobuf\u001B[0m \u001B[0;32mimport\u001B[0m \u001B[0mmessage\u001B[0m \u001B[0;32mas\u001B[0m \u001B[0m_message\u001B[0m\u001B[0;34m\u001B[0m\u001B[0;34m\u001B[0m\u001B[0m\n\u001B[1;32m      7\u001B[0m \u001B[0;32mfrom\u001B[0m \u001B[0mgoogle\u001B[0m\u001B[0;34m.\u001B[0m\u001B[0mprotobuf\u001B[0m \u001B[0;32mimport\u001B[0m \u001B[0mreflection\u001B[0m \u001B[0;32mas\u001B[0m \u001B[0m_reflection\u001B[0m\u001B[0;34m\u001B[0m\u001B[0;34m\u001B[0m\u001B[0m\n",
      "\u001B[0;32m/opt/homebrew/Caskroom/miniforge/base/envs/tftest/lib/python3.9/site-packages/google/protobuf/descriptor.py\u001B[0m in \u001B[0;36m<module>\u001B[0;34m\u001B[0m\n\u001B[1;32m     45\u001B[0m   \u001B[0;32mimport\u001B[0m \u001B[0mbinascii\u001B[0m\u001B[0;34m\u001B[0m\u001B[0;34m\u001B[0m\u001B[0m\n\u001B[1;32m     46\u001B[0m   \u001B[0;32mimport\u001B[0m \u001B[0mos\u001B[0m\u001B[0;34m\u001B[0m\u001B[0;34m\u001B[0m\u001B[0m\n\u001B[0;32m---> 47\u001B[0;31m   \u001B[0;32mfrom\u001B[0m \u001B[0mgoogle\u001B[0m\u001B[0;34m.\u001B[0m\u001B[0mprotobuf\u001B[0m\u001B[0;34m.\u001B[0m\u001B[0mpyext\u001B[0m \u001B[0;32mimport\u001B[0m \u001B[0m_message\u001B[0m\u001B[0;34m\u001B[0m\u001B[0;34m\u001B[0m\u001B[0m\n\u001B[0m\u001B[1;32m     48\u001B[0m   \u001B[0m_USE_C_DESCRIPTORS\u001B[0m \u001B[0;34m=\u001B[0m \u001B[0;32mTrue\u001B[0m\u001B[0;34m\u001B[0m\u001B[0;34m\u001B[0m\u001B[0m\n\u001B[1;32m     49\u001B[0m \u001B[0;34m\u001B[0m\u001B[0m\n",
      "\u001B[0;31mTypeError\u001B[0m: bases must be types"
     ]
    }
   ],
   "source": [
    "import kfp\n",
    "from kfp import components\n",
    "from kfp.components import func_to_container_op\n",
    "from kfp import dsl\n",
    "from kfp.aws import use_aws_secret"
   ],
   "metadata": {
    "collapsed": false
   }
  },
  {
   "cell_type": "code",
   "execution_count": null,
   "outputs": [],
   "source": [],
   "metadata": {
    "collapsed": false
   }
  },
  {
   "cell_type": "markdown",
   "source": [
    "### Import dataset - 20newsgroups sklearn"
   ],
   "metadata": {
    "collapsed": false
   }
  },
  {
   "cell_type": "code",
   "execution_count": 1,
   "outputs": [],
   "source": [
    "from sklearn.datasets import fetch_20newsgroups\n",
    "import pandas as pd\n",
    "import time"
   ],
   "metadata": {
    "collapsed": false
   }
  },
  {
   "cell_type": "markdown",
   "source": [
    "Here, we will use the 20news datasets from sklearn to test the pipeline."
   ],
   "metadata": {
    "collapsed": false
   }
  },
  {
   "cell_type": "code",
   "execution_count": 2,
   "outputs": [
    {
     "name": "stdout",
     "output_type": "stream",
     "text": [
      "Loading dataset...\n",
      "done in 1.012s.\n"
     ]
    }
   ],
   "source": [
    "print(\"Loading dataset...\")\n",
    "t0 = time.time()\n",
    "data = fetch_20newsgroups(\n",
    "    shuffle=True,\n",
    "    random_state=1,\n",
    "    remove=(\"headers\", \"footers\", \"quotes\"),\n",
    ")\n",
    "# data_samples = data[:2000]\n",
    "print(\"done in %0.3fs.\" % (time.time() - t0))"
   ],
   "metadata": {
    "collapsed": false
   }
  },
  {
   "cell_type": "code",
   "execution_count": 3,
   "outputs": [
    {
     "name": "stdout",
     "output_type": "stream",
     "text": [
      "Well i'm not sure about the story nad it did seem biased. What\n",
      "I disagree with is your statement that the U.S. Media is out to\n",
      "ruin Israels reputation. That is rediculous. The U.S. media is\n",
      "the most pro-israeli media in the world. Having lived in Europe\n",
      "I realize that incidences such as the one described in the\n",
      "letter have occured. The U.S. media as a whole seem to try to\n",
      "ignore them. The U.S. is subsidizing Israels existance and the\n",
      "Europeans are not (at least not to the same degree). So I think\n",
      "that might be a reason they report more clearly on the\n",
      "atrocities.\n",
      "\tWhat is a shame is that in Austria, daily reports of\n",
      "the inhuman acts commited by Israeli soldiers and the blessing\n",
      "received from the Government makes some of the Holocaust guilt\n",
      "go away. After all, look how the Jews are treating other races\n",
      "when they got power. It is unfortunate.\n",
      " \n",
      "\n",
      " #################################################################################################### \n",
      "\n",
      "\n",
      "\n",
      "\n",
      "\n",
      "\n",
      "\n",
      "\n",
      "\n",
      "Yeah, do you expect people to read the FAQ, etc. and actually accept hard\n",
      "atheism?  No, you need a little leap of faith, Jimmy.  Your logic runs out\n",
      "of steam!\n",
      "\n",
      "\n",
      "\n",
      "\n",
      "\n",
      "\n",
      "\n",
      "Jim,\n",
      "\n",
      "Sorry I can't pity you, Jim.  And I'm sorry that you have these feelings of\n",
      "denial about the faith you need to get by.  Oh well, just pretend that it will\n",
      "all end happily ever after anyway.  Maybe if you start a new newsgroup,\n",
      "alt.atheist.hard, you won't be bummin' so much?\n",
      "\n",
      "\n",
      "\n",
      "\n",
      "\n",
      "\n",
      "Bye-Bye, Big Jim.  Don't forget your Flintstone's Chewables!  :) \n",
      "--\n",
      "Bake Timmons, III \n",
      "\n",
      " #################################################################################################### \n",
      "\n",
      "\n"
     ]
    }
   ],
   "source": [
    "# sneak peek of the news articles\n",
    "for idx in range(2):\n",
    "    print(data.data[idx],'\\n\\n','#'*100, '\\n\\n')"
   ],
   "metadata": {
    "collapsed": false
   }
  },
  {
   "cell_type": "code",
   "execution_count": 3,
   "outputs": [
    {
     "name": "stdout",
     "output_type": "stream",
     "text": [
      "shape :  (11314, 2)\n",
      "head : \n",
      "                                                 News  Target\n",
      "0  Well i'm not sure about the story nad it did s...      17\n",
      "1  \\n\\n\\n\\n\\n\\n\\nYeah, do you expect people to re...       0\n",
      "2  Although I realize that principle is not one o...      17\n",
      "3  Notwithstanding all the legitimate fuss about ...      11\n",
      "4  Well, I will have to change the scoring on my ...      10\n"
     ]
    }
   ],
   "source": [
    "# put your data into a dataframe\n",
    "news_df = pd.DataFrame({'News': data.data,\n",
    "                       'Target': data.target})\n",
    "\n",
    "# get dimensions of data\n",
    "print(\"shape : \", news_df.shape)\n",
    "print(\"head : \\n\", news_df.head())"
   ],
   "metadata": {
    "collapsed": false
   }
  },
  {
   "cell_type": "code",
   "execution_count": 4,
   "outputs": [
    {
     "data": {
      "text/plain": "                                                News  Target  \\\n0  Well i'm not sure about the story nad it did s...      17   \n1  \\n\\n\\n\\n\\n\\n\\nYeah, do you expect people to re...       0   \n2  Although I realize that principle is not one o...      17   \n3  Notwithstanding all the legitimate fuss about ...      11   \n4  Well, I will have to change the scoring on my ...      10   \n\n             Target_name  \n0  talk.politics.mideast  \n1            alt.atheism  \n2  talk.politics.mideast  \n3              sci.crypt  \n4       rec.sport.hockey  ",
      "text/html": "<div>\n<style scoped>\n    .dataframe tbody tr th:only-of-type {\n        vertical-align: middle;\n    }\n\n    .dataframe tbody tr th {\n        vertical-align: top;\n    }\n\n    .dataframe thead th {\n        text-align: right;\n    }\n</style>\n<table border=\"1\" class=\"dataframe\">\n  <thead>\n    <tr style=\"text-align: right;\">\n      <th></th>\n      <th>News</th>\n      <th>Target</th>\n      <th>Target_name</th>\n    </tr>\n  </thead>\n  <tbody>\n    <tr>\n      <th>0</th>\n      <td>Well i'm not sure about the story nad it did s...</td>\n      <td>17</td>\n      <td>talk.politics.mideast</td>\n    </tr>\n    <tr>\n      <th>1</th>\n      <td>\\n\\n\\n\\n\\n\\n\\nYeah, do you expect people to re...</td>\n      <td>0</td>\n      <td>alt.atheism</td>\n    </tr>\n    <tr>\n      <th>2</th>\n      <td>Although I realize that principle is not one o...</td>\n      <td>17</td>\n      <td>talk.politics.mideast</td>\n    </tr>\n    <tr>\n      <th>3</th>\n      <td>Notwithstanding all the legitimate fuss about ...</td>\n      <td>11</td>\n      <td>sci.crypt</td>\n    </tr>\n    <tr>\n      <th>4</th>\n      <td>Well, I will have to change the scoring on my ...</td>\n      <td>10</td>\n      <td>rec.sport.hockey</td>\n    </tr>\n  </tbody>\n</table>\n</div>"
     },
     "execution_count": 4,
     "metadata": {},
     "output_type": "execute_result"
    }
   ],
   "source": [
    "# replace target names from target numbers in our news data frame\n",
    "news_df['Target_name'] = news_df['Target'].apply(lambda x: data.target_names[x])\n",
    "news_df.head()"
   ],
   "metadata": {
    "collapsed": false
   }
  },
  {
   "cell_type": "raw",
   "source": [
    "news_df.to_csv(\"20newgroups.csv\")"
   ],
   "metadata": {
    "collapsed": false
   }
  },
  {
   "cell_type": "code",
   "execution_count": 6,
   "outputs": [
    {
     "name": "stderr",
     "output_type": "stream",
     "text": [
      "/opt/homebrew/Caskroom/miniforge/base/envs/tftest/lib/python3.9/site-packages/seaborn/_decorators.py:36: FutureWarning: Pass the following variable as a keyword arg: x. From version 0.12, the only valid positional argument will be `data`, and passing other arguments without an explicit keyword will result in an error or misinterpretation.\n",
      "  warnings.warn(\n"
     ]
    },
    {
     "data": {
      "text/plain": "(array([ 0,  1,  2,  3,  4,  5,  6,  7,  8,  9, 10, 11, 12, 13, 14, 15, 16,\n        17, 18, 19]),\n [Text(0, 0, 'talk.politics.mideast'),\n  Text(1, 0, 'alt.atheism'),\n  Text(2, 0, 'sci.crypt'),\n  Text(3, 0, 'rec.sport.hockey'),\n  Text(4, 0, 'soc.religion.christian'),\n  Text(5, 0, 'comp.sys.mac.hardware'),\n  Text(6, 0, 'sci.med'),\n  Text(7, 0, 'sci.electronics'),\n  Text(8, 0, 'comp.graphics'),\n  Text(9, 0, 'misc.forsale'),\n  Text(10, 0, 'talk.religion.misc'),\n  Text(11, 0, 'talk.politics.guns'),\n  Text(12, 0, 'rec.motorcycles'),\n  Text(13, 0, 'rec.autos'),\n  Text(14, 0, 'comp.os.ms-windows.misc'),\n  Text(15, 0, 'comp.windows.x'),\n  Text(16, 0, 'comp.sys.ibm.pc.hardware'),\n  Text(17, 0, 'sci.space'),\n  Text(18, 0, 'rec.sport.baseball'),\n  Text(19, 0, 'talk.politics.misc')])"
     },
     "execution_count": 6,
     "metadata": {},
     "output_type": "execute_result"
    },
    {
     "data": {
      "text/plain": "<Figure size 720x504 with 1 Axes>",
      "image/png": "[encoded data removed]"
     },
     "metadata": {},
     "output_type": "display_data"
    }
   ],
   "source": [
    "import matplotlib.pyplot as plt\n",
    "import seaborn as sns\n",
    "# plot distribution of topics in news data\n",
    "fig = plt.figure(figsize=[10,7])\n",
    "ax = sns.countplot(news_df['Target_name'], color=sns.xkcd_rgb['greenish cyan'])\n",
    "plt.title('Distribution of Topics')\n",
    "plt.xlabel('Topics')\n",
    "plt.ylabel('Count of topics')\n",
    "plt.xticks(rotation=90)"
   ],
   "metadata": {
    "collapsed": false
   }
  },
  {
   "cell_type": "markdown",
   "source": [
    "I will pass \"paragraph\" into the Kubeflow pipeline parameter."
   ],
   "metadata": {
    "collapsed": false
   }
  },
  {
   "cell_type": "code",
   "execution_count": 8,
   "outputs": [
    {
     "data": {
      "text/plain": "0        Well i'm not sure about the story nad it did s...\n1        \\n\\n\\n\\n\\n\\n\\nYeah, do you expect people to re...\n2        Although I realize that principle is not one o...\n3        Notwithstanding all the legitimate fuss about ...\n4        Well, I will have to change the scoring on my ...\n                               ...                        \n11309    Danny Rubenstein, an Israeli journalist, will ...\n11310                                                   \\n\n11311    \\nI agree.  Home runs off Clemens are always m...\n11312    I used HP DeskJet with Orange Micros Grappler ...\n11313                                          ^^^^^^\\n...\nName: News, Length: 11314, dtype: object"
     },
     "execution_count": 8,
     "metadata": {},
     "output_type": "execute_result"
    }
   ],
   "source": [
    "paragraph = news_df['News']\n",
    "paragraph"
   ],
   "metadata": {
    "collapsed": false
   }
  },
  {
   "cell_type": "markdown",
   "source": [
    "### Kubeflow Pipeline - Components"
   ],
   "metadata": {
    "collapsed": false
   }
  },
  {
   "cell_type": "markdown",
   "source": [
    "***"
   ],
   "metadata": {
    "collapsed": false
   }
  },
  {
   "cell_type": "markdown",
   "source": [
    "#### Example: Kubeflow pipeline"
   ],
   "metadata": {
    "collapsed": false
   }
  },
  {
   "cell_type": "markdown",
   "source": [
    "Kubeflow use Docker image to create components of the pipeline.\n",
    "* image: In the example below, the image used is a custom image to do preprocessing in a given text. It is from this image that kubeflow will create its component.\n",
    "* command: Then we ask him to launch a file 'preprocess_input_text.py' present in the image.\n",
    "* arguments: As argument, we let it enter a paragraph\n",
    "* file_outputs: The outputs is a csv file named 'paragraph.csv' This output file will be the input of the next components of the pipeline."
   ],
   "metadata": {
    "collapsed": false
   }
  },
  {
   "cell_type": "code",
   "execution_count": 7,
   "outputs": [],
   "source": [
    "def preprocess_input_text_op(paragraph):\n",
    "    return dsl.ContainerOp(\n",
    "        name='preprocess_input_text',\n",
    "        image='thekenken/preprocess_input_text:latest',\n",
    "        command=['python', './preprocess_input_text.py'],\n",
    "        arguments=['--paragraph', paragraph],\n",
    "        file_outputs={\n",
    "            'paragraph': '/app/paragraph.csv',\n",
    "        }\n",
    "    )"
   ],
   "metadata": {
    "collapsed": false
   }
  },
  {
   "cell_type": "markdown",
   "source": [
    "The ```dsl.ContainerOp()``` function needs an image that is present in the docker hub repository. If you want to use an image present in your local machine, it will not work, you need to push to docker hub or amazon hub for docker images.\n",
    "\n",
    "You can check how we create those images in the \"../kubeflow\" directory of this GitHub repository."
   ],
   "metadata": {
    "collapsed": false
   }
  },
  {
   "cell_type": "markdown",
   "source": [
    "***"
   ],
   "metadata": {
    "collapsed": false
   }
  },
  {
   "cell_type": "markdown",
   "source": [
    "This is the pipeline we will use for topic modeling.\n",
    "\n",
    "We have in total of 7 steps:"
   ],
   "metadata": {
    "collapsed": false
   }
  },
  {
   "cell_type": "markdown",
   "source": [
    "![](../img/topic_modeling_pipeline_gcp.png)"
   ],
   "metadata": {
    "collapsed": false
   }
  },
  {
   "cell_type": "markdown",
   "source": [
    "#### Preprocess Input"
   ],
   "metadata": {
    "collapsed": false
   }
  },
  {
   "cell_type": "markdown",
   "source": [
    "In this first step, we will clean up the input paragraph as little as possible, and split it by sentence, to obtain an output array of sentences instead of paragraphs. If we make it enter 5 paragraph. In the output, we will have an array of 5 tables of sentences per paragraph."
   ],
   "metadata": {
    "collapsed": false
   }
  },
  {
   "cell_type": "code",
   "execution_count": 9,
   "outputs": [],
   "source": [
    "def preprocess_input_text_op(paragraph):\n",
    "    return dsl.ContainerOp(\n",
    "        name='preprocess_input_text',\n",
    "        image='thekenken/preprocess_input_text:latest',\n",
    "        # image='python:3.8-slim',\n",
    "        # command=[\"python\", -u, -m, \"kfp_component.launcher\"],\n",
    "        command=['python', './preprocess_input_text.py'],\n",
    "        # command=['python', './preprocess_input_text/preprocess_input_text.py'],\n",
    "        arguments=['--paragraph', paragraph],\n",
    "        file_outputs={\n",
    "            'paragraph': '/app/paragraph.csv',\n",
    "        }\n",
    "    )"
   ],
   "metadata": {
    "collapsed": false
   }
  },
  {
   "cell_type": "markdown",
   "source": [
    "#### Sentence Embedding"
   ],
   "metadata": {
    "collapsed": false
   }
  },
  {
   "cell_type": "markdown",
   "source": [
    "In this step, we will use sentence embedding which will represent all the sentences in vectors. This will encode the meaning of the sentence as a vector. If two sentences are very close (in meaning) then the vector will also be very close"
   ],
   "metadata": {
    "collapsed": false
   }
  },
  {
   "cell_type": "markdown",
   "source": [
    "Example of representation of embedding vectors but for words:\n",
    "![](../img/word_embedding.png)"
   ],
   "metadata": {
    "collapsed": false
   }
  },
  {
   "cell_type": "markdown",
   "source": [
    "For the embedding, we will use ```embed = spacy.load(\"en_core_web_sm\")``` for purpose of lightweight\n",
    "Otherwise, there is also USE (Universal-Sentence-Encoder) made by Google available from Tensorflow-hub.\n",
    "\n",
    "The input of this component is the preprocessed texts from the previous component. This will come out an array with multiple vectors 'embedding.npy'."
   ],
   "metadata": {
    "collapsed": false
   }
  },
  {
   "cell_type": "code",
   "execution_count": 10,
   "outputs": [],
   "source": [
    "# preprocess_input_text_op.output\n",
    "def embedding_op(text):\n",
    "    return dsl.ContainerOp(\n",
    "        name='embedding',\n",
    "        image='thekenken/embedding:latest',\n",
    "        # command=['python', './embedding/embeddings.py'],\n",
    "        command=['python', './embeddings.py'],\n",
    "        arguments=['--paragraph', text],\n",
    "        file_outputs={\n",
    "            'embeddings': '/app/embedding.npy',\n",
    "        }\n",
    "    )"
   ],
   "metadata": {
    "collapsed": false
   }
  },
  {
   "cell_type": "markdown",
   "source": [
    "#### PCA - dimension reduction"
   ],
   "metadata": {
    "collapsed": false
   }
  },
  {
   "cell_type": "markdown",
   "source": [
    "This embedding is then sent to the PCA (Principal Component Analysis) which is a dimension reduction. The objective is to reduce the dimension while keeping 95% of the information.\n"
   ],
   "metadata": {
    "collapsed": false
   }
  },
  {
   "cell_type": "code",
   "execution_count": 11,
   "outputs": [],
   "source": [
    "# embedding_op.output\n",
    "def pca_dimension_reduction_op(embeddings):\n",
    "    return dsl.ContainerOp(\n",
    "        name='pca_dimension_reduction',\n",
    "        image='thekenken/pca:latest',\n",
    "        command=['python', './pca.py'],\n",
    "        arguments=['--embeddings', embeddings],\n",
    "        file_outputs={\n",
    "            'pca_result': '/app/pca_result.npy',\n",
    "        }\n",
    "    )"
   ],
   "metadata": {
    "collapsed": false
   }
  },
  {
   "cell_type": "markdown",
   "source": [
    "#### Find optimal number of clusters - Kmeans"
   ],
   "metadata": {
    "collapsed": false
   }
  },
  {
   "cell_type": "markdown",
   "source": [
    "We will then do clustering with KMeans which will group sentences with similar meaning. The objective is to get the sentences closest to the center of each group. We will create a document that groups all the sentences or paragraphs by clusters, for example if we have 5 clusters we will have 5 documents of the most representative sentences.\n"
   ],
   "metadata": {
    "collapsed": false
   }
  },
  {
   "cell_type": "markdown",
   "source": [],
   "metadata": {
    "collapsed": false
   }
  },
  {
   "cell_type": "code",
   "execution_count": 12,
   "outputs": [],
   "source": [
    "def find_optimal_k_cluster_op(pca_result):\n",
    "    return dsl.ContainerOp(\n",
    "        name='find_optimal_k_cluster',\n",
    "        image='thekenken/find_optimal_number_of_clusters:latest',\n",
    "        command=['python', './find_optimal_k_cluster.py'],\n",
    "        arguments=['--pca_result', pca_result],\n",
    "        file_outputs={\n",
    "            'optimal_k_cluster': '/app/optimal_k_cluster.npy',\n",
    "        }\n",
    "    )\n",
    "\n",
    "\n",
    "def kmeans_op(n_clusters_optimal, pca_result):\n",
    "    return dsl.ContainerOp(\n",
    "        name='kmeans',\n",
    "        image='thekenken/kmeans:latest',\n",
    "        command=['python', './kmeans.py'],\n",
    "        arguments=['--n_clusters_optimal', n_clusters_optimal,\n",
    "                   '--pca_result', pca_result],\n",
    "        file_outputs={\n",
    "            'top_nearest_indices_by_clusters': '/app/top_nearest_indices_by_clusters.npy',\n",
    "        }\n",
    "    )\n",
    "\n",
    "def create_dataframe_op(top_nearest_indices_by_clusters, text):\n",
    "    return dsl.ContainerOp(\n",
    "        name='create_dataframe_from_top_nearest_indices_by_clusters',\n",
    "        image='thekenken/create_df_from_top_nearest_indices:latest',\n",
    "        command=['python', './create_df.py'],\n",
    "        arguments=['--top_nearest_indices_by_clusters', top_nearest_indices_by_clusters,\n",
    "                   '--text', text],\n",
    "        file_outputs={\n",
    "            'documents': '/app/documents.csv',\n",
    "        }\n",
    "    )\n"
   ],
   "metadata": {
    "collapsed": false
   }
  },
  {
   "cell_type": "markdown",
   "source": [
    "#### TF-IDF"
   ],
   "metadata": {
    "collapsed": false
   }
  },
  {
   "cell_type": "markdown",
   "source": [
    "This brings us to the last part of our pipeline, the topic analysis: TF-IDF. TF-IDF (term frequency-inverse document frequency) is a statistical measure that evaluates the relevance of a word to a document in a document collection.\n",
    "We will visualize the results using this method by displaying the most relevant words in each document/cluster."
   ],
   "metadata": {
    "collapsed": false
   }
  },
  {
   "cell_type": "code",
   "execution_count": 13,
   "outputs": [],
   "source": [
    "def tf_idf_op(documents_path):\n",
    "    return dsl.ContainerOp(\n",
    "        name='TF-IDF',\n",
    "        image='thekenken/tf_idf:latest',\n",
    "        command=['python', './tf_idf.py'],\n",
    "        arguments=[\"--documents_path\", documents_path],\n",
    "        file_outputs={\n",
    "            'tf_idf': '/app/top_words.csv',\n",
    "        }\n",
    "    )"
   ],
   "metadata": {
    "collapsed": false
   }
  },
  {
   "cell_type": "markdown",
   "source": [
    "### Pipeline - Assemble components"
   ],
   "metadata": {
    "collapsed": false
   }
  },
  {
   "cell_type": "markdown",
   "source": [
    "Earlier we create all the steps/components of the topic modeling pipeline, now we need to assemble them to create a valid kubeflow pipeline."
   ],
   "metadata": {
    "collapsed": false
   }
  },
  {
   "cell_type": "code",
   "execution_count": 15,
   "outputs": [
    {
     "ename": "NameError",
     "evalue": "name 'dsl' is not defined",
     "output_type": "error",
     "traceback": [
      "\u001B[0;31m---------------------------------------------------------------------------\u001B[0m",
      "\u001B[0;31mNameError\u001B[0m                                 Traceback (most recent call last)",
      "\u001B[0;32m/var/folders/wf/wnvt2sps3zbgxgxfcbpbw7xm0000gn/T/ipykernel_28433/4250089215.py\u001B[0m in \u001B[0;36m<module>\u001B[0;34m\u001B[0m\n\u001B[0;32m----> 1\u001B[0;31m @dsl.pipeline(\n\u001B[0m\u001B[1;32m      2\u001B[0m     \u001B[0mname\u001B[0m\u001B[0;34m=\u001B[0m\u001B[0;34m'Topic Modeling Pipeline'\u001B[0m\u001B[0;34m,\u001B[0m\u001B[0;34m\u001B[0m\u001B[0;34m\u001B[0m\u001B[0m\n\u001B[1;32m      3\u001B[0m     \u001B[0mdescription\u001B[0m\u001B[0;34m=\u001B[0m\u001B[0;34m'Topic Modeling Pipeline'\u001B[0m\u001B[0;34m\u001B[0m\u001B[0;34m\u001B[0m\u001B[0m\n\u001B[1;32m      4\u001B[0m )\n\u001B[1;32m      5\u001B[0m \u001B[0;32mdef\u001B[0m \u001B[0mtopic_modeling_pipeline\u001B[0m\u001B[0;34m(\u001B[0m\u001B[0mparagraph\u001B[0m\u001B[0;34m)\u001B[0m\u001B[0;34m:\u001B[0m\u001B[0;34m\u001B[0m\u001B[0;34m\u001B[0m\u001B[0m\n",
      "\u001B[0;31mNameError\u001B[0m: name 'dsl' is not defined"
     ]
    }
   ],
   "source": [
    "@dsl.pipeline(\n",
    "    name='Topic Modeling Pipeline',\n",
    "    description='Topic Modeling Pipeline'\n",
    ")\n",
    "def topic_modeling_pipeline(paragraph):\n",
    "    _preprocess_input_text = preprocess_input_text_op(paragraph)\n",
    "\n",
    "    ''' .after() is needed to tell the line of the pipeline'''\n",
    "    _embedding = embedding_op(dsl.InputArgumentPath(_preprocess_input_text.outputs['paragraph'])).after(\n",
    "        _preprocess_input_text)\n",
    "\n",
    "    _pca_dimension_reduction = pca_dimension_reduction_op(\n",
    "        dsl.InputArgumentPath(_embedding.outputs['embeddings'])).after(_embedding)\n",
    "\n",
    "    _find_optimal_k_cluster = find_optimal_k_cluster_op(\n",
    "        dsl.InputArgumentPath(_pca_dimension_reduction.outputs['pca_result'])).after(_pca_dimension_reduction)\n",
    "\n",
    "    _kmeans = kmeans_op(dsl.InputArgumentPath(_find_optimal_k_cluster.outputs['optimal_k_cluster']),\n",
    "                        dsl.InputArgumentPath(_pca_dimension_reduction.outputs['pca_result'])).after(\n",
    "        _find_optimal_k_cluster, _pca_dimension_reduction)\n",
    "\n",
    "    _create_dataframe = create_dataframe_op(dsl.InputArgumentPath(_kmeans.outputs['top_nearest_indices_by_clusters']),\n",
    "                                            dsl.InputArgumentPath(_preprocess_input_text.outputs['paragraph'])).after(\n",
    "        _kmeans,\n",
    "        _preprocess_input_text)\n",
    "\n",
    "    _tf_idf = tf_idf_op(dsl.InputArgumentPath(_create_dataframe.outputs['documents'])).after(_create_dataframe)\n",
    "\n",
    "    return _tf_idf"
   ],
   "metadata": {
    "collapsed": false
   }
  },
  {
   "cell_type": "markdown",
   "source": [
    "## Compile the Kubeflow pipeline"
   ],
   "metadata": {
    "collapsed": false
   }
  },
  {
   "cell_type": "code",
   "execution_count": null,
   "outputs": [],
   "source": [
    "kfp.compiler.Compiler().compile(\n",
    "    pipeline_func=topic_modeling_pipeline,\n",
    "    package_path='pipeline_topic_modeling_sagemaker.yaml')"
   ],
   "metadata": {
    "collapsed": false
   }
  },
  {
   "cell_type": "code",
   "execution_count": null,
   "outputs": [],
   "source": [
    "!pygmentize pipeline_topic_modeling.yaml"
   ],
   "metadata": {
    "collapsed": false
   }
  },
  {
   "cell_type": "markdown",
   "source": [
    "## Launch Pipeline on Kubernetes cluster"
   ],
   "metadata": {
    "collapsed": false
   }
  },
  {
   "cell_type": "markdown",
   "source": [
    "Here, I run the Kubeflow pipeline with the KFP SDK. You can check the run at the Kubeflow pipeline dashboard in the \"run\" or \"experiments\""
   ],
   "metadata": {
    "collapsed": false
   }
  },
  {
   "cell_type": "code",
   "execution_count": null,
   "outputs": [],
   "source": [
    "client = kfp.Client()\n",
    "client.create_run_from_pipeline_func(topic_modeling_pipeline, arguments={\n",
    "    \"paragraph\": paragraph})\n",
    "# \"paragraph\": \"Machine learning (ML) is the scientific study of algorithms and statistical models that computer systems use to progressively improve their performance on a specific task. Machine learning algorithms build a mathematical model of sample data, known as ‘training data’, in order to make predictions or decisions without being explicitly programmed to perform the task. Machine learning algorithms are used in the applications of email filtering, detection of network intruders, and computer vision, where it is infeasible to develop an algorithm of specific instructions for performing the task. Machine learning is closely related to computational statistics, which focuses on making predictions using computers. The study of mathematical optimization delivers methods, theory and application domains to the field of machine learning. Data mining is a field of study within machine learning, and focuses on exploratory data analysis through unsupervised learning.In its application across business problems, machine learning is also referred to as predictive analytics.\"})\n"
   ],
   "metadata": {
    "collapsed": false
   }
  },
  {
   "cell_type": "markdown",
   "source": [
    "![](../img/kfp_dashboard_run.png)"
   ],
   "metadata": {
    "collapsed": false
   }
  },
  {
   "cell_type": "markdown",
   "source": [
    "If it's working well, you should be able to see this:"
   ],
   "metadata": {
    "collapsed": false
   }
  },
  {
   "cell_type": "markdown",
   "source": [
    "![](../img/result_run_kfp.png)"
   ],
   "metadata": {
    "collapsed": false
   }
  },
  {
   "cell_type": "code",
   "execution_count": null,
   "outputs": [],
   "source": [],
   "metadata": {
    "collapsed": false
   }
  },
  {
   "cell_type": "code",
   "execution_count": null,
   "outputs": [],
   "source": [],
   "metadata": {
    "collapsed": false
   }
  },
  {
   "cell_type": "code",
   "execution_count": null,
   "outputs": [],
   "source": [],
   "metadata": {
    "collapsed": false
   }
  },
  {
   "cell_type": "code",
   "execution_count": null,
   "outputs": [],
   "source": [],
   "metadata": {
    "collapsed": false
   }
  },
  {
   "cell_type": "code",
   "execution_count": null,
   "outputs": [],
   "source": [],
   "metadata": {
    "collapsed": false
   }
  },
  {
   "cell_type": "code",
   "execution_count": null,
   "outputs": [],
   "source": [],
   "metadata": {
    "collapsed": false
   }
  },
  {
   "cell_type": "code",
   "execution_count": null,
   "outputs": [],
   "source": [],
   "metadata": {
    "collapsed": false
   }
  },
  {
   "cell_type": "code",
   "execution_count": null,
   "outputs": [],
   "source": [],
   "metadata": {
    "collapsed": false
   }
  },
  {
   "cell_type": "code",
   "execution_count": null,
   "outputs": [],
   "source": [],
   "metadata": {
    "collapsed": false
   }
  }
 ],
 "metadata": {
  "kernelspec": {
   "name": "tftest",
   "language": "python",
   "display_name": "tftest"
  },
  "language_info": {
   "codemirror_mode": {
    "name": "ipython",
    "version": 2
   },
   "file_extension": ".py",
   "mimetype": "text/x-python",
   "name": "python",
   "nbconvert_exporter": "python",
   "pygments_lexer": "ipython2",
   "version": "2.7.6"
  }
 },
 "nbformat": 4,
 "nbformat_minor": 0
}
